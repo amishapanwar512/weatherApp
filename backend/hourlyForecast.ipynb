{
 "cells": [
  {
   "cell_type": "code",
   "execution_count": 1,
   "id": "1a2c6498-89cc-4843-919f-256476427966",
   "metadata": {},
   "outputs": [],
   "source": [
    "import pandas as pd"
   ]
  },
  {
   "cell_type": "code",
   "execution_count": 3,
   "id": "8f2b8fa9-0dde-4cdb-a327-3ed7ffe92736",
   "metadata": {},
   "outputs": [],
   "source": [
    "from functools import reduce"
   ]
  },
  {
   "cell_type": "code",
   "execution_count": 19,
   "id": "6ab3b5ee-25a8-46fc-a199-20f4a8e394ff",
   "metadata": {},
   "outputs": [],
   "source": [
    "#Define file names and key columns\n",
    "files={\n",
    "    \"temperature\":\"temperature.csv\",\n",
    "    \"humidity\":\"humidity.csv\",\n",
    "    \"pressure\":\"pressure.csv\",\n",
    "    \"wind_speed\":\"wind_speed.csv\",\n",
    "    \"wind_direction\":\"wind_direction.csv\",\n",
    "    \"weather_description\":\"weather_description.csv\",\n",
    "}"
   ]
  },
  {
   "cell_type": "code",
   "execution_count": 37,
   "id": "bddc6bbe-a479-47d2-b084-14472738aff5",
   "metadata": {},
   "outputs": [
    {
     "name": "stdout",
     "output_type": "stream",
     "text": [
      "             datetime         city  temperature  humidity  pressure  \\\n",
      "0 2012-10-01 12:00:00  Albuquerque          NaN       NaN       NaN   \n",
      "1 2012-10-01 13:00:00  Albuquerque   285.120000      50.0    1024.0   \n",
      "2 2012-10-01 14:00:00  Albuquerque   285.154558      49.0    1024.0   \n",
      "3 2012-10-01 15:00:00  Albuquerque   285.233952      49.0    1024.0   \n",
      "4 2012-10-01 16:00:00  Albuquerque   285.313345      49.0    1024.0   \n",
      "\n",
      "   wind_speed  wind_direction weather_description        Country   Latitude  \\\n",
      "0         NaN             NaN                 NaN  United States  35.084492   \n",
      "1         4.0           360.0        sky is clear  United States  35.084492   \n",
      "2         4.0           360.0        sky is clear  United States  35.084492   \n",
      "3         4.0           360.0        sky is clear  United States  35.084492   \n",
      "4         4.0           360.0        sky is clear  United States  35.084492   \n",
      "\n",
      "    Longitude  \n",
      "0 -106.651138  \n",
      "1 -106.651138  \n",
      "2 -106.651138  \n",
      "3 -106.651138  \n",
      "4 -106.651138  \n"
     ]
    }
   ],
   "source": [
    "import pandas as pd\n",
    "from functools import reduce\n",
    "\n",
    "# 0. Map each feature name to its wide‑format CSV\n",
    "files = {\n",
    "    \"temperature\":         \"temperature.csv\",\n",
    "    \"humidity\":            \"humidity.csv\",\n",
    "    \"pressure\":            \"pressure.csv\",\n",
    "    \"wind_speed\":          \"wind_speed.csv\",\n",
    "    \"wind_direction\":      \"wind_direction.csv\",\n",
    "    \"weather_description\": \"weather_description.csv\"\n",
    "}\n",
    "\n",
    "# 1. Load & unpivot each CSV into long form\n",
    "dfs = []\n",
    "for feature, fn in files.items():\n",
    "    # parse_dates turns 'datetime' from text → datetime64\n",
    "    df_wide = pd.read_csv(fn, parse_dates=[\"datetime\"])\n",
    "    \n",
    "    # melt so each row is (datetime, city, <feature> value)\n",
    "    df_long = df_wide.melt(\n",
    "        id_vars=[\"datetime\"],\n",
    "        var_name=\"city\",\n",
    "        value_name=feature          # ← use the loop variable here\n",
    "    )\n",
    "    dfs.append(df_long)\n",
    "\n",
    "# 2. Merge all feature‑DataFrames on (city, datetime)\n",
    "master_df = reduce(\n",
    "    lambda left, right: pd.merge(left, right, on=[\"city\",\"datetime\"], how=\"inner\"),\n",
    "    dfs\n",
    ")\n",
    "\n",
    "# 3. Attach static city attributes\n",
    "city_attr = pd.read_csv(\"city_attributes.csv\")  # assume it has 'city' plus metadata\n",
    "master_df = master_df.merge(city_attr, on=\"city\", how=\"left\")\n",
    "\n",
    "# 4. (Optional) tidy up\n",
    "master_df = master_df.sort_values([\"city\",\"datetime\"]).reset_index(drop=True)\n",
    "\n",
    "# 5. Inspect\n",
    "print(master_df.head(5))\n"
   ]
  },
  {
   "cell_type": "code",
   "execution_count": 39,
   "id": "078bf0ae-600d-4e95-bfa0-66a05a1c31bc",
   "metadata": {},
   "outputs": [],
   "source": [
    "import numpy as np\n",
    "df=master_df.copy()"
   ]
  },
  {
   "cell_type": "code",
   "execution_count": 41,
   "id": "aa21d5eb-671a-4047-bbc2-3fd8a38879fa",
   "metadata": {},
   "outputs": [],
   "source": [
    "#1.Temporal features\n",
    "df[\"hour\"]=df[\"datetime\"].dt.hour\n",
    "df[\"dow\"]=df[\"datetime\"].dt.dayofweek\n",
    "df[\"month\"]=df[\"datetime\"].dt.month"
   ]
  },
  {
   "cell_type": "code",
   "execution_count": 43,
   "id": "cee88fea-5e86-49fa-984d-312c536c7d1a",
   "metadata": {},
   "outputs": [],
   "source": [
    "#cyclic encoding\n",
    "df[\"hour_sin\"]=np.sin(2*np.pi*df[\"hour\"]/24)\n",
    "df[\"hour_cos\"]=np.cos(2*np.pi*df[\"hour\"]/24)\n",
    "df[\"dow_sin\"]=np.sin(2*np.pi*df[\"dow\"]/7)\n",
    "df[\"dow_cos\"]=np.cos(2*np.pi*df[\"dow\"]/7)\n",
    "df[\"month_sin\"]=np.sin(2*np.pi*(df[\"month\"]-1)/12)\n",
    "df[\"hour_cos\"]=np.cos(2*np.pi*(df[\"month\"]-1)/12)"
   ]
  },
  {
   "cell_type": "code",
   "execution_count": 45,
   "id": "b9af2470-8131-46cf-844e-e4ae2f8a467c",
   "metadata": {},
   "outputs": [],
   "source": [
    "#2.Lag Features(past temperatures)\n",
    "lags=[1,2,3,6,12,24]  #hours back\n",
    "\n",
    "for lag in lags:\n",
    "    df[f\"temp_lag_{lag}\"]=(\n",
    "        df.groupby(\"city\")[\"temperature\"].shift(lag))"
   ]
  },
  {
   "cell_type": "code",
   "execution_count": 49,
   "id": "cedad636-4a9d-4ca0-8588-2dcc331ddfd5",
   "metadata": {},
   "outputs": [],
   "source": [
    "#3.Rolling Window statistics (3h&6h means/std)\n",
    "windows=[3,6]\n",
    "\n",
    "for w in windows:\n",
    "    #1.exclude the current hour so the window only looks at the past w hours\n",
    "    grp=df.groupby(\"city\")[\"temperature\"].shift(1)\n",
    "    #2.Compute the rolling mean over last w values\n",
    "    df[f\"temp_roll_mean_{w}h\"]=(grp.rolling(window=w).mean().reset_index(0,drop=True))\n",
    "    #3.Compute the rolling std over last w values\n",
    "    df[f\"temp_roll_std_{w}h\"]=(grp.rolling(window=w).std().reset_index(0,drop=True))"
   ]
  },
  {
   "cell_type": "code",
   "execution_count": 51,
   "id": "be266dbb-09b1-4748-be02-1a25cf70c3ec",
   "metadata": {},
   "outputs": [
    {
     "name": "stdout",
     "output_type": "stream",
     "text": [
      "['datetime', 'city', 'temperature', 'humidity', 'pressure', 'wind_speed', 'wind_direction', 'weather_description', 'Country', 'Latitude', 'Longitude', 'hour', 'dow', 'month', 'hour_sin', 'hour_cos', 'dow_sin', 'dow_cos', 'month_sin', 'temp_lag_1', 'temp_lag_2', 'temp_lag_3', 'temp_lag_6', 'temp_lag_12', 'temp_lag_24', 'temp_roll_mean_3h', 'temp_roll_std_3h', 'temp_roll_mean_6h', 'temp_roll_std_6h']\n",
      "              datetime         city  temperature  humidity  pressure  \\\n",
      "25 2012-10-02 13:00:00  Albuquerque   286.980607      47.0    1024.0   \n",
      "26 2012-10-02 14:00:00  Albuquerque   287.060000      47.0    1025.0   \n",
      "27 2012-10-02 15:00:00  Albuquerque   289.910000      41.0    1026.0   \n",
      "28 2012-10-02 16:00:00  Albuquerque   291.470000      40.0    1016.0   \n",
      "29 2012-10-02 17:00:00  Albuquerque   292.860000       NaN       NaN   \n",
      "\n",
      "    wind_speed  wind_direction weather_description        Country   Latitude  \\\n",
      "25         4.0           360.0        sky is clear  United States  35.084492   \n",
      "26         4.0           360.0        sky is clear  United States  35.084492   \n",
      "27         2.0           360.0        sky is clear  United States  35.084492   \n",
      "28         1.0           342.0        sky is clear  United States  35.084492   \n",
      "29         3.0             0.0        sky is clear  United States  35.084492   \n",
      "\n",
      "    ...  temp_lag_1  temp_lag_2  temp_lag_3  temp_lag_6  temp_lag_12  \\\n",
      "25  ...  286.901213  286.821820  286.742426  286.504246   286.027886   \n",
      "26  ...  286.980607  286.901213  286.821820  286.583640   286.107279   \n",
      "27  ...  287.060000  286.980607  286.901213  286.663033   286.186673   \n",
      "28  ...  289.910000  287.060000  286.980607  286.742426   286.266066   \n",
      "29  ...  291.470000  289.910000  287.060000  286.821820   286.345459   \n",
      "\n",
      "    temp_lag_24  temp_roll_mean_3h  temp_roll_std_3h  temp_roll_mean_6h  \\\n",
      "25   285.120000         286.821820          0.079393         286.702730   \n",
      "26   285.154558         286.901213          0.079393         286.782123   \n",
      "27   285.233952         286.980607          0.079393         286.861516   \n",
      "28   285.313345         287.983536          1.668839         287.402678   \n",
      "29   285.392738         289.480000          2.236224         288.190607   \n",
      "\n",
      "    temp_roll_std_6h  \n",
      "25          0.148531  \n",
      "26          0.148531  \n",
      "27          0.148531  \n",
      "28          1.233453  \n",
      "29          1.999461  \n",
      "\n",
      "[5 rows x 29 columns]\n"
     ]
    }
   ],
   "source": [
    "# Finally, drop any rows with NaNs introduced by shifting/rolling (or handle via imputation)\n",
    "df = df.dropna(subset=[f\"temp_lag_{lags[-1]}\", f\"temp_roll_mean_{windows[-1]}h\"])\n",
    "\n",
    "# Now df is enriched and ready for modeling!\n",
    "print(df.columns.tolist())\n",
    "print(df.head())"
   ]
  },
  {
   "cell_type": "code",
   "execution_count": 65,
   "id": "8dd3b165-4a0c-465a-8cb6-bffa6f23e26a",
   "metadata": {
    "scrolled": true
   },
   "outputs": [
    {
     "name": "stdout",
     "output_type": "stream",
     "text": [
      "MAE:  0.663 °C\n",
      "RMSE: 1.029 °C\n"
     ]
    },
    {
     "name": "stderr",
     "output_type": "stream",
     "text": [
      "C:\\Users\\Amisha panwar\\AppData\\Roaming\\Python\\Python312\\site-packages\\sklearn\\metrics\\_regression.py:492: FutureWarning: 'squared' is deprecated in version 1.4 and will be removed in 1.6. To calculate the root mean squared error, use the function'root_mean_squared_error'.\n",
      "  warnings.warn(\n"
     ]
    }
   ],
   "source": [
    "#Model training \n",
    "import numpy as np\n",
    "from sklearn.ensemble import RandomForestRegressor\n",
    "from sklearn.metrics import mean_absolute_error, mean_squared_error\n",
    "\n",
    "# 1. Define features & target (same as before)\n",
    "exclude_cols = [\"city\", \"datetime\", \"temperature\",\"weather_description\",\"Country\"]\n",
    "feature_cols = [c for c in df.columns if c not in exclude_cols]\n",
    "# After feature engineering, before train/test split:\n",
    "# Drop any row where temperature (target) or any predictor is NaN\n",
    "keep_cols = [\"temperature\"] + feature_cols\n",
    "df_model = df.dropna(subset=keep_cols).reset_index(drop=True)\n",
    "\n",
    "# Then redefine X and y\n",
    "X = df_model[feature_cols]\n",
    "y = df_model[\"temperature\"]\n",
    "\n",
    "# 2. Time‑based split\n",
    "split_idx = int(len(df) * 0.8)\n",
    "X_train, X_test = X.iloc[:split_idx], X.iloc[split_idx:]\n",
    "y_train, y_test = y.iloc[:split_idx], y.iloc[split_idx:]\n",
    "\n",
    "# 3. Train a Random Forest\n",
    "rf = RandomForestRegressor(\n",
    "    n_estimators=100,\n",
    "    max_depth=10,\n",
    "    random_state=42,\n",
    "    n_jobs=-1\n",
    ")\n",
    "rf.fit(X_train, y_train)\n",
    "\n",
    "# 4. Predict & evaluate\n",
    "y_pred = rf.predict(X_test)\n",
    "mae  = mean_absolute_error(y_test, y_pred)\n",
    "rmse = mean_squared_error(y_test, y_pred, squared=False)\n",
    "\n",
    "print(f\"MAE:  {mae:.3f} °C\")\n",
    "print(f\"RMSE: {rmse:.3f} °C\")\n"
   ]
  },
  {
   "cell_type": "code",
   "execution_count": 67,
   "id": "ead546f3-ffe9-4eb3-9ab3-1c27f213178f",
   "metadata": {},
   "outputs": [
    {
     "data": {
      "text/plain": [
       "['rf_hourly_temp.pkl']"
      ]
     },
     "execution_count": 67,
     "metadata": {},
     "output_type": "execute_result"
    }
   ],
   "source": [
    "import joblib\n",
    "joblib.dump(rf,\"rf_hourly_temp.pkl\")"
   ]
  },
  {
   "cell_type": "code",
   "execution_count": null,
   "id": "c17aae33-f74a-4db5-8455-256317beecc7",
   "metadata": {},
   "outputs": [],
   "source": []
  }
 ],
 "metadata": {
  "kernelspec": {
   "display_name": "Python 3 (ipykernel)",
   "language": "python",
   "name": "python3"
  },
  "language_info": {
   "codemirror_mode": {
    "name": "ipython",
    "version": 3
   },
   "file_extension": ".py",
   "mimetype": "text/x-python",
   "name": "python",
   "nbconvert_exporter": "python",
   "pygments_lexer": "ipython3",
   "version": "3.12.4"
  }
 },
 "nbformat": 4,
 "nbformat_minor": 5
}
